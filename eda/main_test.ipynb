{
  "cells": [
    {
      "cell_type": "code",
      "execution_count": 10,
      "metadata": {
        "colab": {
          "base_uri": "https://localhost:8080/"
        },
        "id": "zehSJuq_9wLE",
        "outputId": "572bea84-3501-41de-e230-0ccf6834ed41"
      },
      "outputs": [
        {
          "name": "stdout",
          "output_type": "stream",
          "text": [
            "      gender  SeniorCitizen  Partner  Dependents  tenure  PhoneService  \\\n",
            "5629       0              0        1           0      71             1   \n",
            "5630       1              0        0           0       2             1   \n",
            "5631       0              1        0           0      25             1   \n",
            "5632       0              0        1           0      24             1   \n",
            "5633       1              0        0           0       6             1   \n",
            "\n",
            "      MultipleLines  OnlineSecurity  OnlineBackup  DeviceProtection  ...  \\\n",
            "5629              2               0             2                 2  ...   \n",
            "5630              0               0             0                 0  ...   \n",
            "5631              2               2             2                 0  ...   \n",
            "5632              0               1             1                 1  ...   \n",
            "5633              0               1             1                 1  ...   \n",
            "\n",
            "      StreamingTV_enc  StreamingMovies_enc  MultipleLines_enc  \\\n",
            "5629                2                    2                  2   \n",
            "5630                1                    1                  1   \n",
            "5631                2                    2                  2   \n",
            "5632                0                    0                  1   \n",
            "5633                0                    0                  1   \n",
            "\n",
            "      InternetService_Fiber optic  InternetService_No  Contract_One year  \\\n",
            "5629                            1                   0                  0   \n",
            "5630                            0                   0                  0   \n",
            "5631                            1                   0                  0   \n",
            "5632                            0                   1                  1   \n",
            "5633                            0                   1                  0   \n",
            "\n",
            "      Contract_Two year  PaymentMethod_Credit card (automatic)  \\\n",
            "5629                  1                                      0   \n",
            "5630                  0                                      0   \n",
            "5631                  0                                      0   \n",
            "5632                  0                                      1   \n",
            "5633                  0                                      0   \n",
            "\n",
            "      PaymentMethod_Electronic check  PaymentMethod_Mailed check  \n",
            "5629                               1                           0  \n",
            "5630                               0                           0  \n",
            "5631                               0                           1  \n",
            "5632                               0                           0  \n",
            "5633                               0                           1  \n",
            "\n",
            "[5 rows x 30 columns]\n"
          ]
        },
        {
          "name": "stderr",
          "output_type": "stream",
          "text": [
            "c:\\Users\\shree\\OneDrive\\Documents\\Dashboard Wizards\\preprocessing.py:64: FutureWarning: Downcasting behavior in `replace` is deprecated and will be removed in a future version. To retain the old behavior, explicitly call `result.infer_objects(copy=False)`. To opt-in to the future behavior, set `pd.set_option('future.no_silent_downcasting', True)`\n",
            "  df[col] = df[col].replace({'Yes': 1, 'No': 0, True: 1, False: 0})\n",
            "c:\\Users\\shree\\OneDrive\\Documents\\Dashboard Wizards\\preprocessing.py:70: FutureWarning: Downcasting behavior in `replace` is deprecated and will be removed in a future version. To retain the old behavior, explicitly call `result.infer_objects(copy=False)`. To opt-in to the future behavior, set `pd.set_option('future.no_silent_downcasting', True)`\n",
            "  df['gender'] = df['gender'].replace({'Male': 1, 'Female': 0}).infer_objects(copy=False)\n"
          ]
        }
      ],
      "source": [
        "import sys\n",
        "import os\n",
        "\n",
        "# Add parent directory (mainfolder) to path\n",
        "sys.path.append(os.path.abspath(\"...\"))\n",
        "import pandas as pd\n",
        "from preprocessing import preprocess_data\n",
        "\n",
        "df = pd.read_csv('../data/telco_train.csv')        # Load CSV\n",
        "clean_df, _ = preprocess_data(df, train_mode=True)  # Pass DataFrame\n",
        "print(clean_df.tail())\n"
      ]
    },
    {
      "cell_type": "code",
      "execution_count": 11,
      "metadata": {
        "colab": {
          "base_uri": "https://localhost:8080/"
        },
        "id": "sNvRp-dJ-MF6",
        "outputId": "ed37cb9b-e94d-4256-d969-9e0a8d5ecfde"
      },
      "outputs": [
        {
          "name": "stdout",
          "output_type": "stream",
          "text": [
            "Index(['StreamingTV_enc', 'StreamingMovies_enc', 'MultipleLines_enc',\n",
            "       'InternetService_Fiber optic', 'InternetService_No',\n",
            "       'Contract_One year', 'Contract_Two year',\n",
            "       'PaymentMethod_Credit card (automatic)',\n",
            "       'PaymentMethod_Electronic check', 'PaymentMethod_Mailed check'],\n",
            "      dtype='object')\n"
          ]
        }
      ],
      "source": [
        "print(clean_df.columns[-10:])  # Show last 10 column names to see if new ones exist\n"
      ]
    },
    {
      "cell_type": "markdown",
      "metadata": {
        "id": "A5lSypscARzZ"
      },
      "source": []
    },
    {
      "cell_type": "code",
      "execution_count": 12,
      "metadata": {
        "colab": {
          "base_uri": "https://localhost:8080/"
        },
        "id": "TVTSf40SATH8",
        "outputId": "1fdfd32c-8b45-40d7-bef1-a2950dc0a644"
      },
      "outputs": [
        {
          "name": "stdout",
          "output_type": "stream",
          "text": [
            "      StreamingTV_enc\n",
            "0                   2\n",
            "1                   1\n",
            "2                   1\n",
            "3                   2\n",
            "4                   1\n",
            "...               ...\n",
            "5629                2\n",
            "5630                1\n",
            "5631                2\n",
            "5632                0\n",
            "5633                0\n",
            "\n",
            "[5634 rows x 1 columns]\n"
          ]
        }
      ],
      "source": [
        "print(clean_df[[\"StreamingTV_enc\"]])"
      ]
    },
    {
      "cell_type": "code",
      "execution_count": 13,
      "metadata": {
        "colab": {
          "base_uri": "https://localhost:8080/"
        },
        "id": "roSwuRYHAhFi",
        "outputId": "3164de5c-02df-4331-c419-400620e98383"
      },
      "outputs": [
        {
          "name": "stdout",
          "output_type": "stream",
          "text": [
            "(5634, 30)\n"
          ]
        }
      ],
      "source": [
        "print(clean_df.shape)"
      ]
    },
    {
      "cell_type": "code",
      "execution_count": 14,
      "metadata": {
        "colab": {
          "base_uri": "https://localhost:8080/",
          "height": 458
        },
        "id": "XDUKwG6dBICF",
        "outputId": "7f544436-0d96-4c7f-884e-8a833ffddb53"
      },
      "outputs": [
        {
          "data": {
            "application/vnd.microsoft.datawrangler.viewer.v0+json": {
              "columns": [
                {
                  "name": "index",
                  "rawType": "int64",
                  "type": "integer"
                },
                {
                  "name": "OnlineSecurity_enc",
                  "rawType": "int64",
                  "type": "integer"
                }
              ],
              "ref": "4909eef5-4a8a-4bd3-87a8-4a22d2885510",
              "rows": [
                [
                  "0",
                  "1"
                ],
                [
                  "1",
                  "2"
                ],
                [
                  "2",
                  "2"
                ],
                [
                  "3",
                  "1"
                ],
                [
                  "4",
                  "1"
                ],
                [
                  "5",
                  "1"
                ],
                [
                  "6",
                  "0"
                ],
                [
                  "7",
                  "1"
                ],
                [
                  "8",
                  "1"
                ],
                [
                  "9",
                  "1"
                ],
                [
                  "10",
                  "2"
                ],
                [
                  "11",
                  "2"
                ],
                [
                  "12",
                  "2"
                ],
                [
                  "13",
                  "2"
                ],
                [
                  "14",
                  "1"
                ],
                [
                  "15",
                  "1"
                ],
                [
                  "16",
                  "2"
                ],
                [
                  "17",
                  "1"
                ],
                [
                  "18",
                  "0"
                ],
                [
                  "19",
                  "0"
                ],
                [
                  "20",
                  "2"
                ],
                [
                  "21",
                  "0"
                ],
                [
                  "22",
                  "2"
                ],
                [
                  "23",
                  "1"
                ],
                [
                  "24",
                  "1"
                ],
                [
                  "25",
                  "0"
                ],
                [
                  "26",
                  "1"
                ],
                [
                  "27",
                  "1"
                ],
                [
                  "28",
                  "1"
                ],
                [
                  "29",
                  "1"
                ],
                [
                  "30",
                  "2"
                ],
                [
                  "31",
                  "1"
                ],
                [
                  "32",
                  "0"
                ],
                [
                  "33",
                  "0"
                ],
                [
                  "34",
                  "0"
                ],
                [
                  "35",
                  "2"
                ],
                [
                  "36",
                  "1"
                ],
                [
                  "37",
                  "1"
                ],
                [
                  "38",
                  "1"
                ],
                [
                  "39",
                  "1"
                ],
                [
                  "40",
                  "2"
                ],
                [
                  "41",
                  "1"
                ],
                [
                  "42",
                  "0"
                ],
                [
                  "43",
                  "1"
                ],
                [
                  "44",
                  "1"
                ],
                [
                  "45",
                  "1"
                ],
                [
                  "46",
                  "2"
                ],
                [
                  "47",
                  "0"
                ],
                [
                  "48",
                  "1"
                ],
                [
                  "49",
                  "1"
                ]
              ],
              "shape": {
                "columns": 1,
                "rows": 5634
              }
            },
            "text/plain": [
              "0       1\n",
              "1       2\n",
              "2       2\n",
              "3       1\n",
              "4       1\n",
              "       ..\n",
              "5629    1\n",
              "5630    1\n",
              "5631    2\n",
              "5632    0\n",
              "5633    0\n",
              "Name: OnlineSecurity_enc, Length: 5634, dtype: int64"
            ]
          },
          "execution_count": 14,
          "metadata": {},
          "output_type": "execute_result"
        }
      ],
      "source": [
        "clean_df['OnlineSecurity_enc']\n"
      ]
    },
    {
      "cell_type": "code",
      "execution_count": 15,
      "metadata": {
        "colab": {
          "base_uri": "https://localhost:8080/"
        },
        "id": "SIxNjvknBQSb",
        "outputId": "f87d6bce-cfd8-4719-a6e3-2c96b266a6e9"
      },
      "outputs": [
        {
          "name": "stdout",
          "output_type": "stream",
          "text": [
            "['gender', 'SeniorCitizen', 'Partner', 'Dependents', 'tenure', 'PhoneService', 'MultipleLines', 'OnlineSecurity', 'OnlineBackup', 'DeviceProtection', 'TechSupport', 'StreamingTV', 'StreamingMovies', 'PaperlessBilling', 'MonthlyCharges', 'TotalCharges', 'OnlineSecurity_enc', 'OnlineBackup_enc', 'DeviceProtection_enc', 'TechSupport_enc', 'StreamingTV_enc', 'StreamingMovies_enc', 'MultipleLines_enc', 'InternetService_Fiber optic', 'InternetService_No', 'Contract_One year', 'Contract_Two year', 'PaymentMethod_Credit card (automatic)', 'PaymentMethod_Electronic check', 'PaymentMethod_Mailed check']\n"
          ]
        }
      ],
      "source": [
        "print(clean_df.columns.tolist())  # Show all column names clearly\n"
      ]
    },
    {
      "cell_type": "code",
      "execution_count": 16,
      "metadata": {
        "colab": {
          "base_uri": "https://localhost:8080/"
        },
        "id": "VI0oDE1WC6xR",
        "outputId": "19726b1c-7ac5-4ab0-e4ea-8fdca64ad191"
      },
      "outputs": [
        {
          "name": "stdout",
          "output_type": "stream",
          "text": [
            "(1409, 20)\n"
          ]
        }
      ],
      "source": [
        "import pandas as pd\n",
        "df_new = pd.read_csv('../data/telco_test.csv')\n",
        "print(df_new.shape)"
      ]
    },
    {
      "cell_type": "code",
      "execution_count": 17,
      "metadata": {},
      "outputs": [
        {
          "name": "stdout",
          "output_type": "stream",
          "text": [
            "📊 Churn Distribution:\n",
            "churned\n",
            "0    4139\n",
            "1    1495\n",
            "Name: count, dtype: int64\n",
            "\n",
            "📈 Class Proportions:\n",
            "churned\n",
            "0    0.734647\n",
            "1    0.265353\n",
            "Name: proportion, dtype: float64\n"
          ]
        },
        {
          "name": "stderr",
          "output_type": "stream",
          "text": [
            "c:\\Users\\shree\\OneDrive\\Documents\\Dashboard Wizards\\preprocessing.py:64: FutureWarning: Downcasting behavior in `replace` is deprecated and will be removed in a future version. To retain the old behavior, explicitly call `result.infer_objects(copy=False)`. To opt-in to the future behavior, set `pd.set_option('future.no_silent_downcasting', True)`\n",
            "  df[col] = df[col].replace({'Yes': 1, 'No': 0, True: 1, False: 0})\n",
            "c:\\Users\\shree\\OneDrive\\Documents\\Dashboard Wizards\\preprocessing.py:70: FutureWarning: Downcasting behavior in `replace` is deprecated and will be removed in a future version. To retain the old behavior, explicitly call `result.infer_objects(copy=False)`. To opt-in to the future behavior, set `pd.set_option('future.no_silent_downcasting', True)`\n",
            "  df['gender'] = df['gender'].replace({'Male': 1, 'Female': 0}).infer_objects(copy=False)\n"
          ]
        },
        {
          "data": {
            "image/png": "[encoded data removed]",
            "text/plain": [
              "<Figure size 640x480 with 1 Axes>"
            ]
          },
          "metadata": {},
          "output_type": "display_data"
        }
      ],
      "source": [
        "# main.ipynb\n",
        "\n",
        "# Step 1: Imports\n",
        "import pandas as pd\n",
        "from preprocessing import preprocess_data  # your custom preprocessing module\n",
        "\n",
        "# Step 2: Load and preprocess data\n",
        "df = pd.read_csv('../data/telco_train.csv')\n",
        "X, y = preprocess_data(df)\n",
        "\n",
        "# Step 3: Check skewness of churned column\n",
        "print(\"📊 Churn Distribution:\")\n",
        "print(y.value_counts())\n",
        "\n",
        "print(\"\\n📈 Class Proportions:\")\n",
        "print(y.value_counts(normalize=True))\n",
        "\n",
        "# Step 4: Optional - Visualize\n",
        "import matplotlib.pyplot as plt\n",
        "\n",
        "y.value_counts().plot(kind='bar', color=['skyblue', 'salmon'])\n",
        "plt.title(\"Churn Distribution\")\n",
        "plt.xticks(ticks=[0, 1], labels=[\"No Churn\", \"Churn\"], rotation=0)\n",
        "plt.ylabel(\"Customer Count\")\n",
        "plt.grid(axis='y', linestyle='--', alpha=0.7)\n",
        "plt.tight_layout()\n",
        "plt.show()\n"
      ]
    },
    {
      "cell_type": "code",
      "execution_count": null,
      "metadata": {},
      "outputs": [],
      "source": []
    }
  ],
  "metadata": {
    "colab": {
      "provenance": []
    },
    "kernelspec": {
      "display_name": "Python 3",
      "name": "python3"
    },
    "language_info": {
      "codemirror_mode": {
        "name": "ipython",
        "version": 3
      },
      "file_extension": ".py",
      "mimetype": "text/x-python",
      "name": "python",
      "nbconvert_exporter": "python",
      "pygments_lexer": "ipython3",
      "version": "3.9.12"
    }
  },
  "nbformat": 4,
  "nbformat_minor": 0
}
